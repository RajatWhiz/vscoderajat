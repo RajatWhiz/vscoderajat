{
 "cells": [
  {
   "cell_type": "code",
   "execution_count": 1,
   "metadata": {},
   "outputs": [],
   "source": [
    "import pandas as pd\n",
    "import os\n",
    "import random\n",
    "import numpy as np\n",
    "import sys\n",
    "import gc\n",
    "import seaborn as sns\n",
    "import warnings\n",
    "warnings.filterwarnings('ignore')\n",
    "import random\n",
    "from sklearn.compose import ColumnTransformer\n",
    "from sklearn.feature_selection import VarianceThreshold, RFE, SelectFromModel, SelectKBest, f_classif, chi2, mutual_info_classif\n",
    "from sklearn.pipeline import Pipeline\n",
    "from sklearn.pipeline import Pipeline\n",
    "from sklearn.metrics import classification_report\n",
    "import joblib\n",
    "from sklearn.model_selection import train_test_split\n",
    "from sklearn.impute import SimpleImputer\n",
    "from imblearn.over_sampling import RandomOverSampler\n",
    "from sklearn.preprocessing import OneHotEncoder\n",
    "from sklearn.preprocessing import OrdinalEncoder\n",
    "from sklearn.ensemble import RandomForestClassifier\n",
    "from sklearn.utils import shuffle, class_weight\n",
    "import matplotlib.pyplot as plt\n",
    "from sklearn.metrics import confusion_matrix"
   ]
  },
  {
   "cell_type": "code",
   "execution_count": 2,
   "metadata": {},
   "outputs": [],
   "source": [
    "pd.set_option('display.max_columns',None)\n",
    "pd.set_option('display.max_rows',None)"
   ]
  },
  {
   "cell_type": "code",
   "execution_count": 3,
   "metadata": {},
   "outputs": [],
   "source": [
    "files= os.listdir('/home/dsa/Downloads/s3data')"
   ]
  },
  {
   "cell_type": "code",
   "execution_count": 4,
   "metadata": {},
   "outputs": [],
   "source": [
    "def getNumericalAndCategorical(data):\n",
    "    #get Numerical variables\n",
    "    numeric_var_names = [key for key in dict(data.dtypes)\n",
    "                         if dict(data.dtypes)[key] in ['float64', 'int64', 'float32', 'int32']]\n",
    "    #get categorical variables\n",
    "    cat_var_names = [key for key in dict(data.dtypes) if dict(data.dtypes)[key] not in ['float64', 'int64', 'float32', 'int32']]\n",
    "    return [numeric_var_names, cat_var_names]\n",
    "def list2Str(lst):\n",
    "    try:\n",
    "        if isinstance(lst, list):\n",
    "        # print('true')\n",
    "            return\",\".join(lst)\n",
    "            # return tuple(lst)\n",
    "        else:\n",
    "            return lst\n",
    "    except:\n",
    "        print('Error in casting list: ', lst, sys.exc_info()[0])"
   ]
  },
  {
   "cell_type": "code",
   "execution_count": 5,
   "metadata": {},
   "outputs": [],
   "source": [
    "def process_local_data(path,Limit_Features,n_files):\n",
    "    lst_df = []\n",
    "    lst_files =random.sample(files, n_files)\n",
    "    count = 0\n",
    "    feat = pd.read_excel(Limit_Features)\n",
    "    print(\"Iteration Over Files, And Limitting with Imp features\")\n",
    "    date = ['2022-04-21']\n",
    "    for i in lst_files:\n",
    "        try:\n",
    "            for i in date:\n",
    "                if \n",
    "            temp = pd.read_json(path+i,lines = True)\n",
    "            for i in feat.Cols:\n",
    "                if i not in temp.columns:\n",
    "                    temp[i] = np.nan\n",
    "            temp = temp[feat.Cols]\n",
    "            temp = temp.loc[:,~temp.columns.duplicated()]\n",
    "            cat = getNumericalAndCategorical(temp)[1]\n",
    "            temp[cat] = temp[cat].applymap(lambda x:list2Str(x))\n",
    "            temp[cat] = temp[cat].astype(str)\n",
    "            temp = temp.fillna(np.nan)\n",
    "            idx = temp[temp.event_type == 'nan'].index\n",
    "            temp.drop(idx,inplace=True)\n",
    "            count+=1\n",
    "            print(count)\n",
    "            lst_df.append(temp)\n",
    "        except:\n",
    "            print('problmatic file name:', i)\n",
    "            print(\"Unexpected error: for \", sys.exc_info()[0])\n",
    "    print('________Merging DataFrames___________')\n",
    "    return pd.concat(lst_df,ignore_index= True)\n",
    "    del lst_df,lst_files,feat,count,idx,cat\n",
    "    gc.collect()"
   ]
  },
  {
   "cell_type": "code",
   "execution_count": 6,
   "metadata": {
    "scrolled": true
   },
   "outputs": [],
   "source": [
    "# %%time\n",
    "# df = process_local_data('/home/dsa/Downloads/s3data/','lcols.xlsx',30000)"
   ]
  },
  {
   "cell_type": "code",
   "execution_count": 7,
   "metadata": {},
   "outputs": [],
   "source": [
    "lst = ['app_linkage', 'layer.ip._ws.expert.group','layer.ip._ws.expert.message', 'layer.ip._ws.expert.severity',\n",
    "       'layer.ip.ip.dsfield.dscp', 'layer.ip.ip.dsfield.ecn','layer.ip.ip.flags.df', 'layer.ip.ip.flags.mf',\n",
    "       'layer.ip.ip.frag_offset', 'layer.ip.ip.hdr_len', 'layer.ip.ip.id','layer.ip.ip.len', 'layer.ip.ip.proto', 'layer.ip.ip.ttl',\n",
    "       'layer.ip.ip.ttl.too_small', 'layer.udp._ws.expert.group','layer.udp._ws.expert.message', 'layer.udp._ws.expert.severity',\n",
    "       'layer.udp.udp.dstport', 'layer.udp.udp.length','layer.udp.udp.possible_traceroute', 'layer.udp.udp.srcport',\n",
    "       'layer.udp.udp.stream', 'layer.udp.udp.length.bad_zero','layer.udp.proc.dstcmd', 'layer.udp.proc.srccmd',\n",
    "       'layer.icmp._ws.expert.group', 'layer.icmp._ws.expert.message','layer.icmp._ws.expert.severity', 'layer.icmp.echo.data',\n",
    "       'layer.icmp.echo.request', 'layer.icmp.icmp.code','layer.icmp.icmp.length', 'layer.icmp.icmp.length.original_datagram',\n",
    "       'layer.icmp.icmp.mtu', 'layer.icmp.icmp.type', 'layer.icmp.icmp.unused','layer.tcp._ws.expert.group', 'layer.tcp._ws.expert.message',\n",
    "       'layer.tcp._ws.expert.severity','layer.tcp.tcp.analysis.bytes_in_flight','layer.tcp.tcp.analysis.duplicate_ack',\n",
    "       'layer.tcp.tcp.analysis.fast_retransmission','layer.tcp.tcp.analysis.flags', 'layer.tcp.tcp.analysis.lost_segment',\n",
    "       'layer.tcp.tcp.analysis.out_of_order','layer.tcp.tcp.analysis.push_bytes_sent',\n",
    "       'layer.tcp.tcp.analysis.retransmission','layer.tcp.tcp.analysis.reused_ports', 'layer.tcp.tcp.analysis.rto',\n",
    "       'layer.tcp.tcp.analysis.rto_frame','layer.tcp.tcp.analysis.spurious_retransmission','layer.tcp.tcp.analysis.tfo_syn', 'layer.tcp.tcp.analysis.window_full',\n",
    "       'layer.tcp.tcp.analysis.window_update','layer.tcp.tcp.analysis.zero_window',\n",
    "       'layer.tcp.tcp.analysis.zero_window_probe','layer.tcp.tcp.connection.fin', 'layer.tcp.tcp.connection.rst',\n",
    "       'layer.tcp.tcp.connection.sack', 'layer.tcp.tcp.connection.syn','layer.tcp.tcp.dstport', 'layer.tcp.tcp.flags.ack',\n",
    "       'layer.tcp.tcp.flags.cwr', 'layer.tcp.tcp.flags.ecn','layer.tcp.tcp.flags.fin', 'layer.tcp.tcp.flags.push',\n",
    "       'layer.tcp.tcp.flags.reset', 'layer.tcp.tcp.flags.syn', 'layer.tcp.tcp.flags.urg', 'layer.tcp.tcp.hdr_len', 'layer.tcp.tcp.len',\n",
    "       'layer.tcp.tcp.option.len.invalid', 'layer.tcp.tcp.option_kind','layer.tcp.tcp.option_len', 'layer.tcp.tcp.options.eol',\n",
    "       'layer.tcp.tcp.options.experimental.magic_number','layer.tcp.tcp.options.mptcp.extensibility.flag',\n",
    "       'layer.tcp.tcp.options.mptcp.flags','layer.tcp.tcp.options.mptcp.reserved.flag',\n",
    "       'layer.tcp.tcp.options.mptcp.sha1.flag','layer.tcp.tcp.options.mptcp.subtype', 'layer.tcp.tcp.options.sack.count', 'layer.tcp.tcp.options.sack_le',\n",
    "       'layer.tcp.tcp.options.sack_perm', 'layer.tcp.tcp.options.sack_re','layer.tcp.tcp.srcport', 'layer.tcp.tcp.reset_cause', 'event_type']"
   ]
  },
  {
   "cell_type": "code",
   "execution_count": 8,
   "metadata": {
    "scrolled": false
   },
   "outputs": [
    {
     "name": "stdout",
     "output_type": "stream",
     "text": [
      "CPU times: user 1min 24s, sys: 36.2 s, total: 2min\n",
      "Wall time: 2min 1s\n"
     ]
    }
   ],
   "source": [
    "%%time\n",
    "temp = pd.read_csv('20k.csv', chunksize = 20000, usecols=lst, low_memory= False)\n",
    "df = pd.concat(temp)\n",
    "del temp"
   ]
  },
  {
   "cell_type": "code",
   "execution_count": null,
   "metadata": {},
   "outputs": [],
   "source": [
    "# event_types_drop = ['CONNECTION_LOST','SNMPv2 Get','NEW_CONNECTION','ikev2'] "
   ]
  },
  {
   "cell_type": "code",
   "execution_count": 9,
   "metadata": {},
   "outputs": [],
   "source": [
    "# for i in event_types_drop:\n",
    "#     if i in df.event_type.unique():\n",
    "#         idx = df[df.event_type == i].index\n",
    "#         df.drop(idx,inplace=True)\n",
    "#         del idx\n",
    "#         gc.collect()"
   ]
  },
  {
   "cell_type": "code",
   "execution_count": 10,
   "metadata": {
    "scrolled": true
   },
   "outputs": [],
   "source": [
    "# changing Dtypes \n",
    "df[df.select_dtypes(np.float64).columns] = df.select_dtypes(np.float64).astype(np.float32)"
   ]
  },
  {
   "cell_type": "code",
   "execution_count": 11,
   "metadata": {},
   "outputs": [],
   "source": [
    "#replacing values with True and False\n",
    "to_replace = ['layer.tcp.tcp.flags.ack','layer.tcp.tcp.flags.cwr', 'layer.tcp.tcp.flags.ecn',\n",
    "              'layer.tcp.tcp.flags.fin','layer.tcp.tcp.flags.push','layer.tcp.tcp.flags.reset',\n",
    "              'layer.tcp.tcp.flags.syn','layer.tcp.tcp.flags.urg','layer.ip.ip.flags.df', 'layer.ip.ip.flags.mf']\n",
    "for i in to_replace:\n",
    "    df[i].replace([1.0], True, inplace= True)\n",
    "    df[i].replace([0.0], False, inplace= True)"
   ]
  },
  {
   "cell_type": "code",
   "execution_count": 12,
   "metadata": {},
   "outputs": [],
   "source": [
    "#Replacing All None with np.nan\n",
    "def is_unique(s):\n",
    "    a = s.to_numpy() \n",
    "    return (a[0] == a).all()\n",
    "for i in df.columns:\n",
    "    if is_unique(df[i]) == False:\n",
    "        df[i].replace('None', np.nan,inplace= True)\n",
    "        df[i].replace('nan', np.nan,inplace = True)"
   ]
  },
  {
   "cell_type": "code",
   "execution_count": 13,
   "metadata": {},
   "outputs": [],
   "source": [
    "#Changing Values in \"layer.tcp.tcp.options.sack_perm\" with True and False\n",
    "df['layer.tcp.tcp.options.sack_perm'].fillna(False,inplace= True)\n",
    "df['layer.tcp.tcp.options.sack_perm'].replace('04:02', True, inplace= True)"
   ]
  },
  {
   "cell_type": "code",
   "execution_count": 14,
   "metadata": {
    "scrolled": true
   },
   "outputs": [
    {
     "name": "stdout",
     "output_type": "stream",
     "text": [
      "<class 'pandas.core.frame.DataFrame'>\n",
      "RangeIndex: 10810481 entries, 0 to 10810480\n",
      "Columns: 89 entries, app_linkage to event_type\n",
      "dtypes: bool(1), float32(49), object(39)\n",
      "memory usage: 15.7 GB\n"
     ]
    }
   ],
   "source": [
    "df.info(verbose=False,memory_usage='deep')"
   ]
  },
  {
   "cell_type": "code",
   "execution_count": 15,
   "metadata": {
    "scrolled": false
   },
   "outputs": [
    {
     "data": {
      "text/plain": [
       "45"
      ]
     },
     "execution_count": 15,
     "metadata": {},
     "output_type": "execute_result"
    }
   ],
   "source": [
    "data = shuffle(df)\n",
    "del df\n",
    "gc.collect()"
   ]
  },
  {
   "cell_type": "code",
   "execution_count": 16,
   "metadata": {
    "scrolled": true
   },
   "outputs": [
    {
     "name": "stdout",
     "output_type": "stream",
     "text": [
      "dtype conversion\n"
     ]
    }
   ],
   "source": [
    "numerics = getNumericalAndCategorical(data)[0]\n",
    "categoricals = getNumericalAndCategorical(data)[1]\n",
    "without_target = [x for x in categoricals if x != 'event_type']\n",
    "print('dtype conversion')\n",
    "for i in categoricals:\n",
    "    data[i] = data[i].astype(str)"
   ]
  },
  {
   "cell_type": "code",
   "execution_count": 17,
   "metadata": {
    "scrolled": false
   },
   "outputs": [
    {
     "data": {
      "text/plain": [
       "30"
      ]
     },
     "execution_count": 17,
     "metadata": {},
     "output_type": "execute_result"
    }
   ],
   "source": [
    "# X = data.drop(['event_type'],axis = 1)\n",
    "X = data.drop('event_type',axis = 1)\n",
    "y = data[['event_type']]\n",
    "del data \n",
    "gc.collect()"
   ]
  },
  {
   "cell_type": "code",
   "execution_count": 18,
   "metadata": {},
   "outputs": [
    {
     "data": {
      "text/plain": [
       "15"
      ]
     },
     "execution_count": 18,
     "metadata": {},
     "output_type": "execute_result"
    }
   ],
   "source": [
    "X_train,X_test,y_train,y_test = train_test_split(X, y, test_size = 0.3)\n",
    "del X\n",
    "gc.collect()"
   ]
  },
  {
   "cell_type": "code",
   "execution_count": 19,
   "metadata": {
    "scrolled": false
   },
   "outputs": [
    {
     "data": {
      "text/plain": [
       "15"
      ]
     },
     "execution_count": 19,
     "metadata": {},
     "output_type": "execute_result"
    }
   ],
   "source": [
    "weights = class_weight.compute_class_weight(class_weight = 'balanced',\n",
    "                                            classes=np.unique(y),\n",
    "                                            y = y.event_type)\n",
    "class_weights_dicts = dict(zip(list(np.unique(y)),weights))\n",
    "del y\n",
    "gc.collect()"
   ]
  },
  {
   "cell_type": "code",
   "execution_count": 20,
   "metadata": {},
   "outputs": [],
   "source": [
    "numeric_transformer = Pipeline(steps = [('imputer', SimpleImputer(strategy = 'mean'))])\n",
    "categorical_transformer = Pipeline(steps = [('imputer', SimpleImputer(strategy = 'most_frequent')),\n",
    "                                            ('ohe',OrdinalEncoder(handle_unknown ='use_encoded_value',\n",
    "                                                                  unknown_value = -1))])\n",
    "\n",
    "transformer = ColumnTransformer(transformers = [('numeric_data_preprocessing', numeric_transformer,\n",
    "                                                 numerics),\n",
    "                                              ('categorical_data_preprocessing', categorical_transformer,\n",
    "                                               without_target)])\n",
    "\n",
    "# pipeline_rf = Pipeline([('transformer',transformer),\n",
    "#                         ('RandomForest',MultiOutputClassifier(RandomForestClassifier(max_depth=20, n_estimators=50,\n",
    "#                                                                                     max_features='auto', \n",
    "#                                                                                      criterion='entropy')))])\n",
    "\n",
    "pipeline_rf = Pipeline([('transformer',transformer),('RandomForest',\n",
    "                                                     RandomForestClassifier(max_depth=50,\n",
    "                                                                            n_estimators=100,\n",
    "                                                                           class_weight = class_weights_dicts))])"
   ]
  },
  {
   "cell_type": "code",
   "execution_count": 22,
   "metadata": {
    "scrolled": true
   },
   "outputs": [
    {
     "name": "stdout",
     "output_type": "stream",
     "text": [
      "CPU times: user 1h 32min 56s, sys: 1min 42s, total: 1h 34min 39s\n",
      "Wall time: 1h 34min 48s\n"
     ]
    },
    {
     "data": {
      "text/plain": [
       "48"
      ]
     },
     "execution_count": 22,
     "metadata": {},
     "output_type": "execute_result"
    }
   ],
   "source": [
    "%%time\n",
    "model = pipeline_rf.fit(X_train, y_train)\n",
    "del numerics, without_target,categoricals,X_train, y_train,pipeline_rf\n",
    "gc.collect()"
   ]
  },
  {
   "cell_type": "code",
   "execution_count": 23,
   "metadata": {
    "scrolled": true
   },
   "outputs": [
    {
     "data": {
      "text/plain": [
       "['RF_compressed.joblib']"
      ]
     },
     "execution_count": 23,
     "metadata": {},
     "output_type": "execute_result"
    }
   ],
   "source": [
    "joblib.dump(model, \"RF_compressed.joblib\", compress=9)"
   ]
  },
  {
   "cell_type": "code",
   "execution_count": 24,
   "metadata": {},
   "outputs": [],
   "source": [
    "pred = model.predict(X_test)"
   ]
  },
  {
   "cell_type": "code",
   "execution_count": 25,
   "metadata": {
    "scrolled": false
   },
   "outputs": [
    {
     "data": {
      "text/plain": [
       "array(['alert', 'anomaly', 'dcerpc', 'dns', 'fileinfo', 'ftp', 'http',\n",
       "       'mqtt', 'nan', 'rdp', 'rfb', 'sip', 'smb', 'smtp', 'snmp', 'ssh',\n",
       "       'tftp', 'tls'], dtype=object)"
      ]
     },
     "execution_count": 25,
     "metadata": {},
     "output_type": "execute_result"
    }
   ],
   "source": [
    "np.unique(pred)"
   ]
  },
  {
   "cell_type": "code",
   "execution_count": 26,
   "metadata": {
    "scrolled": false
   },
   "outputs": [
    {
     "name": "stdout",
     "output_type": "stream",
     "text": [
      "              precision    recall  f1-score   support\n",
      "\n",
      "       alert       0.91      0.77      0.84   1110733\n",
      "     anomaly       0.58      0.58      0.58     27759\n",
      "      dcerpc       0.95      0.54      0.69        37\n",
      "         dns       0.75      0.83      0.79    210892\n",
      "    fileinfo       0.53      0.49      0.51    101240\n",
      "         ftp       0.63      0.55      0.59        73\n",
      "        http       0.70      0.74      0.72    167927\n",
      "        mqtt       0.93      0.65      0.76        20\n",
      "         nan       0.00      0.00      0.00         0\n",
      "         rdp       0.61      0.74      0.67      6885\n",
      "         rfb       0.61      0.87      0.72    200096\n",
      "         sip       0.92      0.73      0.81        89\n",
      "         smb       0.99      0.98      0.99    913141\n",
      "        smtp       0.70      0.64      0.67        50\n",
      "        snmp       0.69      0.58      0.63       147\n",
      "         ssh       0.86      0.95      0.90    186336\n",
      "        tftp       0.00      0.00      0.00         3\n",
      "         tls       0.99      0.99      0.99    317717\n",
      "\n",
      "    accuracy                           0.86   3243145\n",
      "   macro avg       0.69      0.65      0.66   3243145\n",
      "weighted avg       0.88      0.86      0.87   3243145\n",
      "\n"
     ]
    }
   ],
   "source": [
    "print(classification_report(y_test, pred))"
   ]
  },
  {
   "cell_type": "code",
   "execution_count": 27,
   "metadata": {
    "scrolled": false
   },
   "outputs": [
    {
     "name": "stdout",
     "output_type": "stream",
     "text": [
      "[[858961   5494      1  57063   4402     23   7191      1  22232   3206\n",
      "  111163      6   8183     14     38  29864      1   2890]\n",
      " [  5302  16168      0      0   3061      0   3062      0      7      0\n",
      "       0      0     10      0      0     12      0    137]\n",
      " [    17      0     20      0      0      0      0      0      0      0\n",
      "       0      0      0      0      0      0      0      0]\n",
      " [ 26172      0      0 174568   2573      0    817      0   6762      0\n",
      "       0      0      0      0      0      0      0      0]\n",
      " [  4268   3141      0   1637  49928      0  42128      0     27      0\n",
      "       0      0      2      0      0      0      1    108]\n",
      " [    29      0      0      0      0     40      1      0      2      0\n",
      "       0      0      0      0      0      1      0      0]\n",
      " [  6726   2810      0    501  33936      0 123615      0    163      1\n",
      "      14      0      5      0      0      6      0    150]\n",
      " [     7      0      0      0      0      0      0     13      0      0\n",
      "       0      0      0      0      0      0      0      0]\n",
      " [     0      0      0      0      0      0      0      0      0      0\n",
      "       0      0      0      0      0      0      0      0]\n",
      " [  1666      0      0      0      0      0      1      0    100   5118\n",
      "       0      0      0      0      0      0      0      0]\n",
      " [ 25781      0      0      0      0      0      1      0      3      0\n",
      "  174311      0      0      0      0      0      0      0]\n",
      " [    21      0      0      0      0      0      0      0      3      0\n",
      "       0     65      0      0      0      0      0      0]\n",
      " [  4109      3      0      0      0      0      1      0  10127      0\n",
      "       0      0 898889      0      0      0      0     12]\n",
      " [    17      0      0      0      0      0      0      0      0      0\n",
      "       0      0      0     32      0      1      0      0]\n",
      " [    52      0      0      0      0      0      0      0     10      0\n",
      "       0      0      0      0     85      0      0      0]\n",
      " [  8063      4      0      0      0      0      2      0    440      0\n",
      "       0      0      2      0      0 177825      0      0]\n",
      " [     2      0      0      0      0      0      0      0      1      0\n",
      "       0      0      0      0      0      0      0      0]\n",
      " [  1837     48      0      0     82      0    299      0     76      2\n",
      "       3      0     15      0      0      1      0 315354]]\n"
     ]
    },
    {
     "data": {
      "image/png": "[encoded data removed]",
      "text/plain": [
       "<Figure size 432x288 with 2 Axes>"
      ]
     },
     "metadata": {
      "needs_background": "light"
     },
     "output_type": "display_data"
    }
   ],
   "source": [
    "cm = confusion_matrix(y_test, pred)\n",
    "print(cm)\n",
    "fig = plt.figure()\n",
    "ax = fig.add_subplot(222)\n",
    "cax = ax.matshow(cm)\n",
    "plt.title('Confusion matrix of the classifier')\n",
    "fig.colorbar(cax)\n",
    "plt.xlabel('Predicted')\n",
    "plt.ylabel('True')\n",
    "plt.show()"
   ]
  },
  {
   "cell_type": "code",
   "execution_count": null,
   "metadata": {},
   "outputs": [],
   "source": []
  },
  {
   "cell_type": "code",
   "execution_count": null,
   "metadata": {},
   "outputs": [],
   "source": []
  },
  {
   "cell_type": "code",
   "execution_count": null,
   "metadata": {},
   "outputs": [],
   "source": []
  },
  {
   "cell_type": "code",
   "execution_count": null,
   "metadata": {},
   "outputs": [],
   "source": []
  },
  {
   "cell_type": "code",
   "execution_count": null,
   "metadata": {},
   "outputs": [],
   "source": []
  },
  {
   "cell_type": "code",
   "execution_count": null,
   "metadata": {},
   "outputs": [],
   "source": []
  },
  {
   "cell_type": "code",
   "execution_count": null,
   "metadata": {},
   "outputs": [],
   "source": []
  },
  {
   "cell_type": "code",
   "execution_count": null,
   "metadata": {},
   "outputs": [],
   "source": []
  },
  {
   "cell_type": "code",
   "execution_count": null,
   "metadata": {},
   "outputs": [],
   "source": []
  }
 ],
 "metadata": {
  "kernelspec": {
   "display_name": "Python 3 (ipykernel)",
   "language": "python",
   "name": "python3"
  },
  "language_info": {
   "codemirror_mode": {
    "name": "ipython",
    "version": 3
   },
   "file_extension": ".py",
   "mimetype": "text/x-python",
   "name": "python",
   "nbconvert_exporter": "python",
   "pygments_lexer": "ipython3",
   "version": "3.8.10"
  }
 },
 "nbformat": 4,
 "nbformat_minor": 4
}
