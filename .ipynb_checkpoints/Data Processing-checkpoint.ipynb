{
 "cells": [
  {
   "cell_type": "code",
   "execution_count": 21,
   "metadata": {},
   "outputs": [],
   "source": [
    "import pandas as pd\n",
    "import numpy as np\n",
    "from sklearn.model_selection import train_test_split\n",
    "import gc"
   ]
  },
  {
   "cell_type": "code",
   "execution_count": 22,
   "metadata": {},
   "outputs": [],
   "source": [
    "pd.set_option('display.max_columns',None)\n",
    "pd.set_option('display.max.rows',None)"
   ]
  },
  {
   "cell_type": "code",
   "execution_count": 23,
   "metadata": {},
   "outputs": [
    {
     "data": {
      "text/plain": [
       "0"
      ]
     },
     "execution_count": 23,
     "metadata": {},
     "output_type": "execute_result"
    }
   ],
   "source": [
    "temp = pd.read_csv('/home/rajatsharma/DSA/25k.csv',low_memory=False,chunksize = 20000)\n",
    "df = pd.concat(temp)\n",
    "del temp\n",
    "gc.collect()"
   ]
  },
  {
   "cell_type": "code",
   "execution_count": 24,
   "metadata": {},
   "outputs": [],
   "source": [
    "df.reset_index(inplace = True)"
   ]
  },
  {
   "cell_type": "code",
   "execution_count": 25,
   "metadata": {},
   "outputs": [],
   "source": [
    "#replacing values with True and False\n",
    "to_replace = ['layer.tcp.tcp.flags.ack','layer.tcp.tcp.flags.cwr', 'layer.tcp.tcp.flags.ecn',\n",
    "              'layer.tcp.tcp.flags.fin','layer.tcp.tcp.flags.push','layer.tcp.tcp.flags.reset',\n",
    "              'layer.tcp.tcp.flags.syn','layer.tcp.tcp.flags.urg','layer.ip.ip.flags.df', 'layer.ip.ip.flags.mf']\n",
    "#Replacing All None with np.nan\n",
    "def is_unique(s):\n",
    "    a = s.to_numpy() \n",
    "    return (a[0] == a).all()\n",
    "\n",
    "def to_bool(lst):\n",
    "    for i in lst:\n",
    "        df[i].replace([1.0], True, inplace= True)\n",
    "        df[i].replace([0.0], False, inplace= True)\n",
    "    for i in df.columns:\n",
    "        if is_unique(df[i]) == False:\n",
    "            df[i].replace('None', np.nan,inplace= True)\n",
    "            df[i].replace('nan', np.nan,inplace = True)\n",
    "    df['layer.tcp.tcp.options.sack_perm'].fillna(False,inplace= True)\n",
    "    df['layer.tcp.tcp.options.sack_perm'].replace('04:02', True, inplace= True)\n",
    "    return df"
   ]
  },
  {
   "cell_type": "code",
   "execution_count": 26,
   "metadata": {},
   "outputs": [
    {
     "data": {
      "text/plain": [
       "0"
      ]
     },
     "execution_count": 26,
     "metadata": {},
     "output_type": "execute_result"
    }
   ],
   "source": [
    "df = to_bool(to_replace)\n",
    "del to_bool,to_replace\n",
    "gc.collect()"
   ]
  },
  {
   "cell_type": "code",
   "execution_count": 27,
   "metadata": {},
   "outputs": [],
   "source": [
    "# changing Dtypes \n",
    "df[df.select_dtypes(np.float64).columns] = df.select_dtypes(np.float64).astype(np.float32)"
   ]
  },
  {
   "cell_type": "code",
   "execution_count": 28,
   "metadata": {},
   "outputs": [
    {
     "name": "stdout",
     "output_type": "stream",
     "text": [
      "<class 'pandas.core.frame.DataFrame'>\n",
      "RangeIndex: 14171353 entries, 0 to 14171352\n",
      "Columns: 93 entries, index to alert.signature\n",
      "dtypes: bool(1), float32(51), int64(1), object(40)\n",
      "memory usage: 7.0+ GB\n"
     ]
    }
   ],
   "source": [
    "df.info(verbose=False)"
   ]
  },
  {
   "cell_type": "code",
   "execution_count": 29,
   "metadata": {},
   "outputs": [],
   "source": [
    "#Check in which columns how many null values\n",
    "def null_values(df):\n",
    "    missing_val = df.isnull().sum()\n",
    "    missing_perc = 100 * df.isnull().sum() / len(df)\n",
    "    missing_df = pd.concat([missing_val, missing_perc], axis=1)\n",
    "    missing_df = missing_df.rename(\n",
    "    columns = {0 : 'Missing Values', 1 : '% of Total Values'})\n",
    "    missing_df = missing_df[\n",
    "        missing_df.iloc[:,1] != 0].sort_values('% of Total Values', ascending=False).round(1)\n",
    "    print (\"Dataframe has \" + str(df.shape[1]) + \" columns.\\n\" \n",
    "           \"There are \" + str(missing_df.shape[0]) +\n",
    "           \" columns that have missing values.\")\n",
    "    return missing_df\n",
    "\n",
    "# miss_values = null_values(df)"
   ]
  },
  {
   "cell_type": "code",
   "execution_count": 30,
   "metadata": {},
   "outputs": [],
   "source": [
    "_ = df[df['alert.severity'] == 0.0].index\n",
    "df.drop(df.index[_], inplace=True)"
   ]
  },
  {
   "cell_type": "code",
   "execution_count": 31,
   "metadata": {},
   "outputs": [
    {
     "data": {
      "text/plain": [
       "0"
      ]
     },
     "execution_count": 31,
     "metadata": {},
     "output_type": "execute_result"
    }
   ],
   "source": [
    "del _\n",
    "gc.collect()"
   ]
  },
  {
   "cell_type": "code",
   "execution_count": 32,
   "metadata": {},
   "outputs": [],
   "source": [
    "df.drop_duplicates(inplace = True)"
   ]
  },
  {
   "cell_type": "code",
   "execution_count": 33,
   "metadata": {},
   "outputs": [],
   "source": [
    "df['alert.category'].fillna('not_alert',inplace = True)\n",
    "df['alert.signature'].fillna('not_alert',inplace = True)"
   ]
  },
  {
   "cell_type": "code",
   "execution_count": 34,
   "metadata": {},
   "outputs": [],
   "source": [
    "# train_cols = [i for i in df.columns if i !='alert.category' and i !='alert.signature' and i !='alert.severity']"
   ]
  },
  {
   "cell_type": "code",
   "execution_count": 36,
   "metadata": {},
   "outputs": [],
   "source": [
    "def getNumericalAndCategorical(data):\n",
    "    numeric_var_names = [key for key in dict(data.dtypes)\n",
    "                         if dict(data.dtypes)[key] in ['float64', 'int64', 'float32', 'int32']]\n",
    "    cat_var_names = [key for key in dict(data.dtypes) if dict(data.dtypes)[key] not in ['float64', 'int64', 'float32', 'int32']]\n",
    "    return [numeric_var_names, cat_var_names]\n",
    "\n",
    "def list2Str(lst):\n",
    "    try:\n",
    "        if isinstance(lst, list):\n",
    "            return\",\".join(lst)\n",
    "        else:\n",
    "            return lst\n",
    "    except:\n",
    "        print('Error in casting list: ', lst, sys.exc_info()[0])"
   ]
  },
  {
   "cell_type": "code",
   "execution_count": null,
   "metadata": {},
   "outputs": [],
   "source": [
    "tcp_str = [i for i in df.columns if 'layer.tcp' in  i ]\n",
    "ip_str = [i for i in df.columns if 'layer.ip' in  i ]\n",
    "udp_str = [i for i in df.columns if 'layer.udp' in  i ]\n",
    "icmp_str = [i for i in df.columns if 'layer.icmp' in  i ]"
   ]
  },
  {
   "cell_type": "code",
   "execution_count": 37,
   "metadata": {},
   "outputs": [],
   "source": [
    "numerics = getNumericalAndCategorical(df)[0]\n",
    "categorical = getNumericalAndCategorical(df)[1]"
   ]
  },
  {
   "cell_type": "code",
   "execution_count": 62,
   "metadata": {},
   "outputs": [],
   "source": [
    "df.replace('nan',np.nan,inplace = True)"
   ]
  },
  {
   "cell_type": "code",
   "execution_count": 66,
   "metadata": {},
   "outputs": [
    {
     "data": {
      "text/plain": [
       "array([False, False, False, ..., False, False, False])"
      ]
     },
     "execution_count": 66,
     "metadata": {},
     "output_type": "execute_result"
    }
   ],
   "source": [
    "df['layer.tcp._ws.expert.message'].index.notna()"
   ]
  },
  {
   "cell_type": "code",
   "execution_count": 69,
   "metadata": {},
   "outputs": [],
   "source": [
    "miss_values = null_values(df)"
   ]
  },
  {
   "cell_type": "code",
   "execution_count": null,
   "metadata": {},
   "outputs": [],
   "source": []
  },
  {
   "cell_type": "code",
   "execution_count": null,
   "metadata": {},
   "outputs": [],
   "source": []
  },
  {
   "cell_type": "code",
   "execution_count": null,
   "metadata": {},
   "outputs": [],
   "source": []
  },
  {
   "cell_type": "code",
   "execution_count": null,
   "metadata": {},
   "outputs": [],
   "source": []
  },
  {
   "cell_type": "code",
   "execution_count": null,
   "metadata": {},
   "outputs": [],
   "source": []
  },
  {
   "cell_type": "code",
   "execution_count": null,
   "metadata": {},
   "outputs": [],
   "source": []
  },
  {
   "cell_type": "code",
   "execution_count": null,
   "metadata": {},
   "outputs": [],
   "source": []
  },
  {
   "cell_type": "code",
   "execution_count": null,
   "metadata": {},
   "outputs": [],
   "source": []
  }
 ],
 "metadata": {
  "interpreter": {
   "hash": "916dbcbb3f70747c44a77c7bcd40155683ae19c65e1c03b4aa3499c5328201f1"
  },
  "kernelspec": {
   "display_name": "Python 3 (ipykernel)",
   "language": "python",
   "name": "python3"
  },
  "language_info": {
   "codemirror_mode": {
    "name": "ipython",
    "version": 3
   },
   "file_extension": ".py",
   "mimetype": "text/x-python",
   "name": "python",
   "nbconvert_exporter": "python",
   "pygments_lexer": "ipython3",
   "version": "3.8.10"
  }
 },
 "nbformat": 4,
 "nbformat_minor": 2
}
