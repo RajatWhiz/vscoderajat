{
 "cells": [
  {
   "cell_type": "code",
   "execution_count": 1,
   "id": "7c8365b7",
   "metadata": {},
   "outputs": [],
   "source": [
    "import pandas as pd\n",
    "import numpy as np\n",
    "import matplotlib.pyplot as plt\n",
    "import gc"
   ]
  },
  {
   "cell_type": "code",
   "execution_count": 2,
   "id": "238da3a8",
   "metadata": {},
   "outputs": [],
   "source": [
    "pd.set_option('display.max_columns',None)\n",
    "pd.set_option('display.max_rows',None)"
   ]
  },
  {
   "cell_type": "code",
   "execution_count": 3,
   "id": "04ae221b",
   "metadata": {},
   "outputs": [],
   "source": [
    "cols = list(pd.read_csv(\"/home/rajatsharma/1k.csv\", nrows =1))"
   ]
  },
  {
   "cell_type": "code",
   "execution_count": 4,
   "id": "0a484da1",
   "metadata": {},
   "outputs": [],
   "source": [
    "useless_cols = ['id','timestamp','@version','@timestamp','type','host','message','tags','layer.eth.eth.src', 'layer.eth.eth.dst',\n",
    "                'layer.json.json.array','layer.json.json.key', 'layer.json.json.value.null','layer.json.json.object',\n",
    "                'layer.json.json.value.number','layer.json.json.value.false','layer.json.json.member',\n",
    "                'layer.json.json.value.string','layer.json.json.value.true','src_hostname','langCS','headers','uuid',\n",
    "               'response_msg','method','status','peer','cookies','download_count','is_virtual','downloads','attack_connection',\n",
    "               'download_tries','operation_mode','proxy_connection','tftp','app_proto_tc','username','kexAlgs',\n",
    "               'password','fatt_http','compCS','hassh','hasshAlgorithms','keyAlgs','encCS','version','duration','layer.icmp',\n",
    "               'macCS','sip','lang','app','fatt_ssh','connection','layer.dns','layer.udp','icmp_type','icmp_code','anomaly',\n",
    "               'fileinfo','layer.ssh','tls','snmp','sensor','eventid','session','fatt_tls','protocol','layer.nbss','layer.smb',\n",
    "               'raw_freq','uptime','reason','raw_hits','rdp','link','raw_mtu','os','dist','raw_sig','params','server_ip',\n",
    "               'client_port','server_port','client_ip','http','subject','mod','ip_rep','ssh','tx_id','layer.data','layer.ssl',\n",
    "               'host.name','event.original','log.file.path','metadata','log','event','payload','flow','alert','app_proto',\n",
    "               'dns','layer.tcp','layer.eth','layer.ip','smb','proto','in_iface','flow_id','dest_ip','src_port','dest_port',\n",
    "               'src_ip','geoip','start_time','end_time','t-pot_ip_ext','t-pot_hostname','t-pot_ip_int','geoip_ext','path',\n",
    "               'layer.xml.xml.cdata', 'layer.xml.xml.xmlpi.xml.encoding','layer.xml.xml.tag', 'layer.xml.xml.xmlpi.xml.version',\n",
    "              'layer.xml.xml.attribute','layer.xml.xml.xmlpi.xml','layer.xml.xml.cdatasection',\n",
    "                'layer.xml.xml.doctype']+[i for i in cols if 'timestamp' in i ]"
   ]
  },
  {
   "cell_type": "code",
   "execution_count": 5,
   "id": "f8ee9950",
   "metadata": {
    "scrolled": true
   },
   "outputs": [
    {
     "name": "stdout",
     "output_type": "stream",
     "text": [
      "CPU times: user 4min 12s, sys: 1min 31s, total: 5min 44s\n",
      "Wall time: 5min 44s\n"
     ]
    },
    {
     "data": {
      "text/plain": [
       "0"
      ]
     },
     "execution_count": 5,
     "metadata": {},
     "output_type": "execute_result"
    }
   ],
   "source": [
    "%%time\n",
    "temp = pd.read_csv('/home/rajatsharma/1k.csv',low_memory = False,chunksize=10000,\n",
    "                   usecols=[i for i in cols if i not in useless_cols])\n",
    "df = pd.concat(temp)\n",
    "del temp, cols\n",
    "gc.collect()"
   ]
  },
  {
   "cell_type": "markdown",
   "id": "eaedbac8",
   "metadata": {},
   "source": [
    "### Changing features type as Boolean"
   ]
  },
  {
   "cell_type": "code",
   "execution_count": 6,
   "id": "1f9f138d",
   "metadata": {},
   "outputs": [],
   "source": [
    "#replacing values with True and False\n",
    "to_replace = ['layer.tcp.tcp.flags.ack','layer.tcp.tcp.flags.cwr', 'layer.tcp.tcp.flags.ecn',\n",
    "              'layer.tcp.tcp.flags.fin','layer.tcp.tcp.flags.push','layer.tcp.tcp.flags.reset',\n",
    "              'layer.tcp.tcp.flags.syn','layer.tcp.tcp.flags.urg','layer.ip.ip.flags.df', 'layer.ip.ip.flags.mf']\n",
    "cols = df.columns\n",
    "#Replacing All None with np.nan\n",
    "def is_unique(s):\n",
    "    a = s.to_numpy() \n",
    "    return (a[0] == a).all()\n",
    "\n",
    "def to_bool(lst):\n",
    "    for i in lst:\n",
    "        if i in cols:\n",
    "            df[i].replace([1.0], True, inplace= True)\n",
    "            df[i].replace([0.0], False, inplace= True)\n",
    "    for i in cols:\n",
    "        if is_unique(df[i]) == False:\n",
    "            df[i].replace('None', np.nan,inplace= True)\n",
    "            df[i].replace('nan', np.nan,inplace = True)\n",
    "    if 'layer.tcp.tcp.options.sack_perm' in cols:\n",
    "        df['layer.tcp.tcp.options.sack_perm'].fillna(False,inplace= True)\n",
    "        df['layer.tcp.tcp.options.sack_perm'].replace('04:02', True, inplace= True)\n",
    "    return df"
   ]
  },
  {
   "cell_type": "code",
   "execution_count": 7,
   "id": "ce751366",
   "metadata": {
    "scrolled": false
   },
   "outputs": [
    {
     "name": "stdout",
     "output_type": "stream",
     "text": [
      "CPU times: user 1min 8s, sys: 151 ms, total: 1min 8s\n",
      "Wall time: 1min 8s\n"
     ]
    },
    {
     "data": {
      "text/plain": [
       "0"
      ]
     },
     "execution_count": 7,
     "metadata": {},
     "output_type": "execute_result"
    }
   ],
   "source": [
    "%%time\n",
    "df = to_bool(to_replace)\n",
    "del to_bool,to_replace,cols\n",
    "gc.collect()"
   ]
  },
  {
   "cell_type": "markdown",
   "id": "2dca10e9",
   "metadata": {},
   "source": [
    "### To find  which feature how much missing Values"
   ]
  },
  {
   "cell_type": "code",
   "execution_count": 8,
   "id": "b65f4fb3",
   "metadata": {},
   "outputs": [],
   "source": [
    "#Check in which columns how many null values\n",
    "def null_values(data):\n",
    "    missing_val = data.isnull().sum()\n",
    "    missing_perc = 100 * data.isnull().sum() / len(data)\n",
    "    missing_data = pd.concat([missing_val, missing_perc], axis=1)\n",
    "    missing_data = missing_data.rename(\n",
    "    columns = {0 : 'Missing Values', 1 : '% of Total Values'})\n",
    "    missing_data = missing_data[\n",
    "        missing_data.iloc[:,1] != 0].sort_values('% of Total Values', ascending=False).round(7)\n",
    "    print (\"Dataframe has \" + str(data.shape[1]) + \" columns.\\n\" \n",
    "           \"There are \" + str(missing_data.shape[0]) +\n",
    "           \" columns that have missing values.\")\n",
    "    return missing_data"
   ]
  },
  {
   "cell_type": "code",
   "execution_count": 9,
   "id": "5d436a37",
   "metadata": {},
   "outputs": [
    {
     "name": "stdout",
     "output_type": "stream",
     "text": [
      "Dataframe has 1647 columns.\n",
      "There are 1646 columns that have missing values.\n"
     ]
    }
   ],
   "source": [
    "miss_values = null_values(df)"
   ]
  },
  {
   "cell_type": "markdown",
   "id": "8dc749ee",
   "metadata": {},
   "source": [
    "#### Filling Missings Values"
   ]
  },
  {
   "cell_type": "code",
   "execution_count": 10,
   "id": "3ad7bf4e",
   "metadata": {},
   "outputs": [
    {
     "data": {
      "text/plain": [
       "0"
      ]
     },
     "execution_count": 10,
     "metadata": {},
     "output_type": "execute_result"
    }
   ],
   "source": [
    "df.drop(miss_values[miss_values['% of Total Values']==100].index,axis = 'columns',inplace = True)\n",
    "del miss_values\n",
    "gc.collect()"
   ]
  },
  {
   "cell_type": "code",
   "execution_count": 11,
   "id": "85cb0f7b",
   "metadata": {},
   "outputs": [],
   "source": [
    "df.drop(df[df['alert.severity'] == 0].index, axis = 'rows',inplace = True)"
   ]
  },
  {
   "cell_type": "code",
   "execution_count": 12,
   "id": "7e4208d9",
   "metadata": {
    "scrolled": false
   },
   "outputs": [],
   "source": [
    "df[['alert.signature','alert.category']] = df[['alert.signature','alert.category']].fillna('not_alert')\n",
    "df.app_linkage.fillna('unknown application layer',inplace = True) "
   ]
  },
  {
   "cell_type": "code",
   "execution_count": 13,
   "id": "e4c4c2a2",
   "metadata": {},
   "outputs": [],
   "source": [
    "def renew_data(df):\n",
    "    new_cols = []\n",
    "    for i in [i for i in df.columns if 'layer' in i]:\n",
    "        lst_after_split = i.split(\".\")\n",
    "        new_cols.append(lst_after_split[0] + \".\" + lst_after_split[1])\n",
    "    new_cols = list(set(new_cols))\n",
    "    return new_cols"
   ]
  },
  {
   "cell_type": "code",
   "execution_count": null,
   "id": "58f17eb1",
   "metadata": {},
   "outputs": [],
   "source": []
  },
  {
   "cell_type": "code",
   "execution_count": null,
   "id": "239c2ce8",
   "metadata": {},
   "outputs": [],
   "source": []
  },
  {
   "cell_type": "code",
   "execution_count": null,
   "id": "a483995c",
   "metadata": {},
   "outputs": [],
   "source": []
  },
  {
   "cell_type": "code",
   "execution_count": null,
   "id": "3e049113",
   "metadata": {},
   "outputs": [],
   "source": []
  }
 ],
 "metadata": {
  "kernelspec": {
   "display_name": "Python 3 (ipykernel)",
   "language": "python",
   "name": "python3"
  },
  "language_info": {
   "codemirror_mode": {
    "name": "ipython",
    "version": 3
   },
   "file_extension": ".py",
   "mimetype": "text/x-python",
   "name": "python",
   "nbconvert_exporter": "python",
   "pygments_lexer": "ipython3",
   "version": "3.8.10"
  }
 },
 "nbformat": 4,
 "nbformat_minor": 5
}
