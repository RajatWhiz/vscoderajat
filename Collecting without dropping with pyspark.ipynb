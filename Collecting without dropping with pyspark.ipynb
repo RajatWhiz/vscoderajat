{
 "cells": [
  {
   "cell_type": "code",
   "execution_count": 1,
   "id": "51e74373",
   "metadata": {
    "scrolled": false
   },
   "outputs": [
    {
     "name": "stderr",
     "output_type": "stream",
     "text": [
      "22/05/24 10:33:42 WARN Utils: Your hostname, dsaserver resolves to a loopback address: 127.0.0.1; using 172.16.1.40 instead (on interface eth0)\n",
      "22/05/24 10:33:42 WARN Utils: Set SPARK_LOCAL_IP if you need to bind to another address\n",
      "WARNING: An illegal reflective access operation has occurred\n",
      "WARNING: Illegal reflective access by org.apache.spark.unsafe.Platform (file:/opt/spark/jars/spark-unsafe_2.12-3.2.1.jar) to constructor java.nio.DirectByteBuffer(long,int)\n",
      "WARNING: Please consider reporting this to the maintainers of org.apache.spark.unsafe.Platform\n",
      "WARNING: Use --illegal-access=warn to enable warnings of further illegal reflective access operations\n",
      "WARNING: All illegal access operations will be denied in a future release\n",
      "Using Spark's default log4j profile: org/apache/spark/log4j-defaults.properties\n",
      "Setting default log level to \"WARN\".\n",
      "To adjust logging level use sc.setLogLevel(newLevel). For SparkR, use setLogLevel(newLevel).\n",
      "22/05/24 10:33:43 WARN NativeCodeLoader: Unable to load native-hadoop library for your platform... using builtin-java classes where applicable\n",
      "22/05/24 10:33:45 WARN Utils: Service 'SparkUI' could not bind on port 4040. Attempting port 4041.\n"
     ]
    }
   ],
   "source": [
    "import findspark\n",
    "findspark.init()\n",
    "\n",
    "import pyspark\n",
    "from pyspark.sql import SparkSession\n",
    "spark = SparkSession.builder.master(\"local\").appName(\"loader\").getOrCreate()"
   ]
  },
  {
   "cell_type": "code",
   "execution_count": 2,
   "id": "32f282f6",
   "metadata": {},
   "outputs": [],
   "source": [
    "import pandas as pd\n",
    "import os\n",
    "import random\n",
    "import numpy as np\n",
    "import sys\n",
    "from multiprocessing import Pool\n",
    "import gc\n",
    "import seaborn as sns\n",
    "import warnings\n",
    "warnings.filterwarnings('ignore')\n",
    "import random\n",
    "import gzip"
   ]
  },
  {
   "cell_type": "code",
   "execution_count": 3,
   "id": "55f8e063",
   "metadata": {},
   "outputs": [],
   "source": [
    "pd.set_option('display.max_columns',None)\n",
    "pd.set_option('display.max_rows',None)"
   ]
  },
  {
   "cell_type": "code",
   "execution_count": 4,
   "id": "0a740bc2",
   "metadata": {},
   "outputs": [],
   "source": [
    "files= os.listdir('/s3data')"
   ]
  },
  {
   "cell_type": "code",
   "execution_count": null,
   "id": "a370253a",
   "metadata": {},
   "outputs": [],
   "source": [
    "# def getNumericalAndCategorical(data):\n",
    "#     numeric_var_names = [key for key in dict(data.dtypes)\n",
    "#                          if dict(data.dtypes)[key] in ['float64', 'int64', 'float32', 'int32']]\n",
    "#     cat_var_names = [key for key in dict(data.dtypes) if dict(data.dtypes)[key] not in ['float64', 'int64', 'float32', 'int32']]\n",
    "#     return [numeric_var_names, cat_var_names]\n",
    "# def list2Str(lst):\n",
    "#     try:\n",
    "#         if isinstance(lst, list):\n",
    "#             return\",\".join(lst)\n",
    "#         else:\n",
    "#             return lst\n",
    "#     except:\n",
    "#         print('Error in casting list: ', lst, sys.exc_info()[0])"
   ]
  },
  {
   "cell_type": "code",
   "execution_count": null,
   "id": "ad0d5654",
   "metadata": {},
   "outputs": [],
   "source": [
    "def process_local_data(path):\n",
    "    not_open = []\n",
    "#     lst_files =random.sample(files, n_files)\n",
    "    count = 0\n",
    "    print(\"Iteration Over Files, And Limitting with Imp features\")\n",
    "    for i in files:\n",
    "        try:\n",
    "            temp = pd.read_json(path+i,lines = True)\n",
    "            del temp\n",
    "            gc.collect()\n",
    "            count += 1\n",
    "            if count%1000==0:\n",
    "                print(count)\n",
    "        except:\n",
    "            print('problmatic file name:', i)\n",
    "            print(\"Unexpected error: for \", sys.exc_info()[0])\n",
    "            not_open.append(i)\n",
    "    print('________Merging DataFrames___________')\n",
    "    return not_open"
   ]
  },
  {
   "cell_type": "code",
   "execution_count": 5,
   "id": "b91db17d",
   "metadata": {},
   "outputs": [],
   "source": [
    "files.remove('ls.s3.851e39d5-beaa-448b-a1dc-29177e5b640e.2022-03-16T06.56.part0.txt.gz')"
   ]
  },
  {
   "cell_type": "code",
   "execution_count": 6,
   "id": "bc0c3f48",
   "metadata": {},
   "outputs": [],
   "source": [
    "lst = ['/s3data/'+i for i in files]"
   ]
  },
  {
   "cell_type": "code",
   "execution_count": 7,
   "id": "829ef977",
   "metadata": {},
   "outputs": [],
   "source": [
    "samples = random.sample(lst,20000)"
   ]
  },
  {
   "cell_type": "code",
   "execution_count": null,
   "id": "3763a1fd",
   "metadata": {
    "scrolled": true
   },
   "outputs": [
    {
     "name": "stderr",
     "output_type": "stream",
     "text": [
      "[Stage 2:>                                                       (10 + 1) / 657]\r"
     ]
    }
   ],
   "source": [
    "%%time\n",
    "df = spark.read.json(samples)"
   ]
  },
  {
   "cell_type": "code",
   "execution_count": null,
   "id": "fd33a452",
   "metadata": {},
   "outputs": [],
   "source": [
    "data = df.toPandas()"
   ]
  },
  {
   "cell_type": "code",
   "execution_count": null,
   "id": "b639ca57",
   "metadata": {},
   "outputs": [],
   "source": [
    "df.to_json('/home/rajatsharma/20k.json')"
   ]
  },
  {
   "cell_type": "code",
   "execution_count": null,
   "id": "1842606f",
   "metadata": {},
   "outputs": [],
   "source": []
  },
  {
   "cell_type": "code",
   "execution_count": null,
   "id": "959c7a7e",
   "metadata": {},
   "outputs": [],
   "source": []
  },
  {
   "cell_type": "code",
   "execution_count": null,
   "id": "369356a5",
   "metadata": {},
   "outputs": [],
   "source": []
  }
 ],
 "metadata": {
  "kernelspec": {
   "display_name": "Python 3 (ipykernel)",
   "language": "python",
   "name": "python3"
  },
  "language_info": {
   "codemirror_mode": {
    "name": "ipython",
    "version": 3
   },
   "file_extension": ".py",
   "mimetype": "text/x-python",
   "name": "python",
   "nbconvert_exporter": "python",
   "pygments_lexer": "ipython3",
   "version": "3.8.10"
  }
 },
 "nbformat": 4,
 "nbformat_minor": 5
}
