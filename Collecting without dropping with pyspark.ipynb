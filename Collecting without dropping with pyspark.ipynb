{
 "cells": [
  {
   "cell_type": "code",
   "execution_count": null,
   "id": "db1d7add",
   "metadata": {},
   "outputs": [],
   "source": [
    "from pyspark.sql import SparkSession\n",
    "import pandas as pd\n",
    "import os\n",
    "import random\n",
    "import numpy as np\n",
    "import sys\n",
    "from multiprocessing import Pool\n",
    "import gc\n",
    "import seaborn as sns\n",
    "import warnings\n",
    "warnings.filterwarnings('ignore')\n",
    "import random\n",
    "import gzip\n",
    "from pyspark.sql.functions import countDistinct\n",
    "from pyspark.sql.functions import lit, col, when\n",
    "from pyspark.sql.types import StringType\n",
    "pd.set_option('display.max_columns',None)\n",
    "pd.set_option('display.max_rows',None)"
   ]
  },
  {
   "cell_type": "code",
   "execution_count": null,
   "id": "16b96e57",
   "metadata": {},
   "outputs": [],
   "source": [
    "spark = SparkSession.builder.master('local[*]').config(\"spark.driver.memory\", \"100g\").appName('Dataframe').getOrCreate()\n",
    "spark.conf.set(\"spark.sql.caseSensitive\", \"true\")\n",
    "spark.conf.set('spark.sql.debug.maxToStringFields',100000)"
   ]
  },
  {
   "cell_type": "code",
   "execution_count": null,
   "id": "0a740bc2",
   "metadata": {},
   "outputs": [],
   "source": [
    "files= os.listdir('/s3data')\n",
    "lst = ['/s3data/'+i for i in files]\n",
    "del files\n",
    "gc.collect()\n",
    "samples = random.sample(lst,35700)\n",
    "del lst\n",
    "gc.collect()"
   ]
  },
  {
   "cell_type": "code",
   "execution_count": 4,
   "id": "bc0c3f48",
   "metadata": {
    "scrolled": true
   },
   "outputs": [
    {
     "name": "stderr",
     "output_type": "stream",
     "text": [
      "[Stage 2:====================>                                (454 + 32) / 1174]\r"
     ]
    }
   ],
   "source": [
    "%%time\n",
    "df = spark.read.json(samples)\n",
    "del samples\n",
    "gc.collect()"
   ]
  },
  {
   "cell_type": "code",
   "execution_count": null,
   "id": "68ab1cad",
   "metadata": {},
   "outputs": [],
   "source": [
    "df = df.dropDuplicates()"
   ]
  },
  {
   "cell_type": "code",
   "execution_count": null,
   "id": "3c418e0c",
   "metadata": {},
   "outputs": [],
   "source": [
    "lst = [i.replace('.','_') for i in df.columns]"
   ]
  },
  {
   "cell_type": "code",
   "execution_count": null,
   "id": "662f1133",
   "metadata": {},
   "outputs": [],
   "source": [
    "df = df.toDF(*lst)\n",
    "del lst\n",
    "gc.collect()"
   ]
  },
  {
   "cell_type": "code",
   "execution_count": null,
   "id": "abf97ba9",
   "metadata": {},
   "outputs": [],
   "source": [
    "feat = pd.read_excel('/home/rajatsharma/DSA/lcols.xlsx')\n",
    "lst = [i.replace('.','_') for i in feat['Cols']]"
   ]
  },
  {
   "cell_type": "code",
   "execution_count": null,
   "id": "cd7dc499",
   "metadata": {},
   "outputs": [],
   "source": [
    "for i in lst:\n",
    "    if i not in df.columns:\n",
    "        df = df.withColumn(i, lit(None).cast(StringType()))"
   ]
  },
  {
   "cell_type": "code",
   "execution_count": null,
   "id": "2f21b466",
   "metadata": {},
   "outputs": [],
   "source": [
    "data = df.select(*lst)\n",
    "del lst,df\n",
    "gc.collect()"
   ]
  },
  {
   "cell_type": "code",
   "execution_count": null,
   "id": "d8d4fcb9",
   "metadata": {},
   "outputs": [],
   "source": [
    "# data.filter(\"event_type is null\").count()\n",
    "data = data.where(col('event_type').isNotNull())"
   ]
  },
  {
   "cell_type": "code",
   "execution_count": null,
   "id": "e328df98",
   "metadata": {},
   "outputs": [],
   "source": [
    "data.groupBy('alert_category').count().show()"
   ]
  },
  {
   "cell_type": "code",
   "execution_count": null,
   "id": "e807e85e",
   "metadata": {},
   "outputs": [],
   "source": [
    "data.fillna('not_alert',subset=['alert_category','alert_signature']).count()"
   ]
  },
  {
   "cell_type": "code",
   "execution_count": null,
   "id": "c10caa02",
   "metadata": {},
   "outputs": [],
   "source": [
    "to_replace = ['layer_tcp_tcp_flags_ack','layer_tcp_tcp_flags_cwr', 'layer_tcp_tcp_flags_ecn',\n",
    "              'layer_tcp_tcp_flags_fin','layer_tcp_tcp_flags_push','layer_tcp_tcp_flags_reset',\n",
    "              'layer_tcp_tcp_flags_syn','layer_tcp_tcp_flags_urg','layer_ip_ip_flags_df',\n",
    "               'layer_ip_ip_flags_mf']"
   ]
  },
  {
   "cell_type": "code",
   "execution_count": null,
   "id": "37756f84",
   "metadata": {},
   "outputs": [],
   "source": [
    "for i in to_replace:\n",
    "    data = data.withColumn(i,when((col(i)==1.0),True))\n",
    "    data = data.withColumn(i,when((col(i)==0.0),False))\n"
   ]
  },
  {
   "cell_type": "code",
   "execution_count": null,
   "id": "4c9ad25a",
   "metadata": {},
   "outputs": [],
   "source": [
    "data.replace({'None': None})"
   ]
  },
  {
   "cell_type": "code",
   "execution_count": null,
   "id": "a4e58f28",
   "metadata": {},
   "outputs": [],
   "source": [
    "data.fillna(False,subset=['layer_tcp_tcp_options_sack_perm'])\n",
    "data = data.withColumn('layer_tcp_tcp_options_sack_perm',when((col('layer_tcp_tcp_options_sack_perm')=='04:02'),True))"
   ]
  },
  {
   "cell_type": "code",
   "execution_count": null,
   "id": "a2312333",
   "metadata": {},
   "outputs": [],
   "source": [
    "data.groupBy('event_type').count().show()"
   ]
  },
  {
   "cell_type": "code",
   "execution_count": null,
   "id": "d2d6c62d",
   "metadata": {},
   "outputs": [],
   "source": [
    "data.to_csv('home/rajatsharma/35k.csv',index = False)"
   ]
  },
  {
   "cell_type": "code",
   "execution_count": null,
   "id": "59e83139",
   "metadata": {},
   "outputs": [],
   "source": []
  }
 ],
 "metadata": {
  "kernelspec": {
   "display_name": "Python 3 (ipykernel)",
   "language": "python",
   "name": "python3"
  }
 },
 "nbformat": 4,
 "nbformat_minor": 5
}
